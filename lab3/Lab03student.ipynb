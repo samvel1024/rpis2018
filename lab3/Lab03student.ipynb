{
 "cells": [
  {
   "cell_type": "markdown",
   "metadata": {},
   "source": [
    "# Mean and standard deviation"
   ]
  },
  {
   "cell_type": "markdown",
   "metadata": {},
   "source": [
    "**Problem 3a.** In this problem we look at the mean and the standard deviation from a more statistical point of view.\n",
    " * Generate $N=1\\,000$ values $x_1,\\ldots,x_n$ from Poisson($\\lambda$) distribution for $\\lambda=10$. You might want to use the function **poisson(lambda,shape)** from package **numpy.random**.\n",
    " * Plot a histogram of these values. What is the mean of Poisson($\\lambda$)? What is the standard deviation? Are these values a good description of what you see in the histogram?\n",
    " * For $i \\in \\{1,\\ldots,n\\}$ compute $\\bar{x}_i = \\frac{x_1+\\ldots+x_i}{i}$. Plot the values of $\\bar{x}_i$.\n",
    " * On the same figure, plot a horizontal line corresponding to the expected value ($\\lambda$) of all those averages.\n",
    " * Compute (analitically) the standard deviation $\\sigma_i$ of the $i$-th average and plot lines $\\lambda \\pm \\sigma_i$, again on the same figure.\n",
    " * Does the standard deviation accurately describe the *typical* deviations?"
   ]
  },
  {
   "cell_type": "markdown",
   "metadata": {},
   "source": [
    "**Problem 3b.** In this task we consider a discrete distribution *without a mean* and verify whether we can still estimate the location of its peak by simply computing averages. Consider a discrete variable $X$ with the following distribution: $P(X=k) = \\frac{1}{4|k|(|k|+1)}$ for $k \\neq 0$ and $P(X=0) = \\frac{1}{2}$. \n",
    " * Argue that these formulas indeed describe a discrete distribution.\n",
    " * Show that $X$ does not have a mean.\n",
    " * Plot the function $f(k) = P(X=k)$ for $k \\in [-10,10]$.\n",
    " * Write a function that samples from $X$'s distribution (imaginary bonus points if it is vectorized).\n",
    " * Generate $N=10\\,000$ values $x_1,\\ldots,x_n$ from the distribution.\n",
    " * For $i \\in \\{1,\\ldots,n\\}$ compute $\\bar{x}_i = \\frac{x_1+\\ldots+x_i}{i}$. \n",
    " * Plot the values of $\\bar{x}_i$. Does it look like the series converges? If it is not clear, you can compute several independent\n",
    "   $N$-means and plot a histogram, then increase $N$ significantly and see how it changes.\n",
    " * For $i \\in \\{1,\\ldots,n\\}$ compute $\\hat{x}_i = \\textrm{ median of }\\{x_1,\\ldots,x_i\\}$. \n",
    "   You do not need to do it in a clever way (like in ASD lab).\n",
    " * Plot the values of $\\hat{x}_i$. Does it look like the series converges? \n",
    " * A more interesting situation would be the one where you a given a distribution like $X+c$ for unknown $c$, and \n",
    "   want to figure out what $c$ is, i.e. find the center of the distribution. Both methods above attempt to\n",
    "   locate the center - which works better?"
   ]
  },
  {
   "cell_type": "markdown",
   "metadata": {},
   "source": [
    "**Problem 3c.** We are now going to investigate an intermediate case - a variable with a finite mean, but no variance. Consider a discrete variable $Y$ with the following distribution: $P(Y=k) = \\frac{1}{|k|(|k|+1)(|k|+2)}$ for $k \\neq 0$ and $P(Y=0) = \\frac{1}{2}$. \n",
    " * Argue that these formulas indeed describe a discrete distribution.\n",
    " * Show that $EY=0$, but $Y$ has no variation (i.e. the defining series is not absolutely convergent).\n",
    " * Plot the function $f(k) = P(Y=k)$ for $k \\in [-10,10]$.\n",
    " * Write a function that samples from $Y$'s distribution.\n",
    " * Generate $N=10\\,000$ values $y_1,\\ldots,y_n$ from the distribution.\n",
    " * For $i \\in \\{1,\\ldots,n\\}$ compute $\\bar{y}_i = \\frac{y_1+\\ldots+y_i}{i}$. \n",
    " * Plot the values of $\\bar{y}_i$. Does it look like the series converges?\n",
    " * For $i \\in \\{1,\\ldots,n\\}$ compute $\\hat{y}_i = \\textrm{ median of }\\{y_1,\\ldots,y_i\\}$.\n",
    " * Plot the values of $\\hat{y}_i$.\n",
    " * Discuss the results obtained."
   ]
  }
 ],
 "metadata": {
  "kernelspec": {
   "display_name": "Python 3",
   "language": "python",
   "name": "python3"
  },
  "language_info": {
   "codemirror_mode": {
    "name": "ipython",
    "version": 3
   },
   "file_extension": ".py",
   "mimetype": "text/x-python",
   "name": "python",
   "nbconvert_exporter": "python",
   "pygments_lexer": "ipython3",
   "version": "3.4.3"
  }
 },
 "nbformat": 4,
 "nbformat_minor": 1
}
