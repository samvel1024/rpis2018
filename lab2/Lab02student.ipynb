{
 "cells": [
  {
   "cell_type": "markdown",
   "metadata": {},
   "source": [
    "# Discrete sampling\n",
    "In the last problem of the first session we sampled with given probabilities using prefix sums and binary search. The sampling code is the bottleneck of the whole process, its running times is 3 times higher than the code for uniform probabilities, and the difference would only increase for larger number of outcomes. In the next two problems we discuss two simple, but powerful techniques one can use to sample in time $O(1)$."
   ]
  },
  {
   "cell_type": "markdown",
   "metadata": {},
   "source": [
    "**Problem 2a.** Consider the problem of sampling with known probabilities $p_1,\\ldots,p_d$. Suppose that you have a black-box that samples with probabilities $q_1,\\ldots,q_d$ that are close to $p_1,\\ldots,p_d$, say\n",
    "$$ \\forall_{i=1,\\ldots,n} p_i \\le (1+\\varepsilon)q_i.$$\n",
    "\n",
    "* How can you use this black-box to sample with probabilities $p_1,\\ldots,p_d$? It is expected, that the running time of the algorithm would be non-deterministic.\n",
    "* Prove that your algorithm is correct.\n",
    "* Implement the algorithm and use it to give a faster implementation for **Problem 1c**."
   ]
  },
  {
   "cell_type": "code",
   "execution_count": 2,
   "metadata": {},
   "outputs": [],
   "source": [
    "\n",
    "import numpy as np\n",
    "import matplotlib.pyplot as plt\n",
    "\n",
    "\n"
   ]
  },
  {
   "cell_type": "code",
   "execution_count": 3,
   "metadata": {},
   "outputs": [],
   "source": [
    "\n",
    "def generate_bin_search(freq):\n",
    "    def gen(count, freq):\n",
    "        pref_sum = np.cumsum(freq)\n",
    "        rand = np.random.randint(pref_sum[len(pref_sum) - 1], size=count)\n",
    "        return np.searchsorted(pref_sum, rand)\n",
    "\n",
    "    generated = gen(10000000, freq);\n",
    "    unique_elements, gen_freq = np.unique(generated, return_counts=True)\n",
    "\n",
    "    print(\"Generated\")\n",
    "    plt.plot(gen_freq/gen_freq.max())\n",
    "    plt.show()\n",
    "    print(\"Real\")\n",
    "    plt.plot(freq/freq.max())\n",
    "    plt.show()\n"
   ]
  },
  {
   "cell_type": "markdown",
   "metadata": {},
   "source": [
    "**Problem 2c (Squaring the histogram).** In this problem, we again want to sample with known probabilities $p_1,\\ldots,p_n$, but this time we make no assumptions on $p_i$. Consider the following algorithm:\n",
    "   * Let $V$ be the mean of $p_i$, i.e. $V=\\frac{1}{n}$.\n",
    "   * Create $n$ buckets, each with volume $V$, put each $p_i$ into a separate bucket.\n",
    "   * Until there exists a bucket $A$ that is not full, find a bucket $B$ that overflows, and trasfer probability from $B$ to $A$ until $A$ is exactly full\n",
    "\n",
    "Show that:\n",
    "   * This algorithm always ends.\n",
    "   * When it ends, each bucket contains pieces of exactly two $p_i$'s.\n",
    "\n",
    "How to use the result of this algorithm to sample with probabilities $p_i$. Argue that your algorithm is correct and implement it. The sampling part should be *vectorized*. Use this algorithm to sample birthdates again, and test its efficiency."
   ]
  },
  {
   "cell_type": "code",
   "execution_count": null,
   "metadata": {},
   "outputs": [
    {
     "name": "stdout",
     "output_type": "stream",
     "text": [
      "mean =  189479.94086021505\n",
      "Finished preprocessing\n"
     ]
    }
   ],
   "source": [
    "from bintrees import FastAVLTree\n",
    "\n",
    "#pip install bintrees\n",
    "def square_hist(data, generations):\n",
    "    #Indices of properies stored in mutable 4-tuple\n",
    "    POS = 0 \n",
    "    H = 1\n",
    "    MIX_POS = 2\n",
    "\n",
    "    \n",
    "    def vectorized_sample(count, squared, mean):\n",
    "        mat = np.transpose(squared[np.random.randint(low = 0, high = len(squared), size=count)])\n",
    "        R = mean * np.random.ranf(size = count)\n",
    "        I = mat[POS]\n",
    "        J = mat[MIX_POS]\n",
    "        X = mat[H]\n",
    "        D = X - R #difference of random value and height\n",
    "        D = D / np.absolute(D) #Vec of -1s and 1s\n",
    "        DI = (1 + D) / 2 #Vec of 1s and 0s where 1 denotes value from I\n",
    "        DJ = 1 - DI #(negation of DI) Vec of 1s and 0s where 1 denotes value from J\n",
    "        return (I * DI) + (J * DJ)\n",
    "    \n",
    "    \n",
    "    def preprocess(data):\n",
    "        mean = np.mean(data)\n",
    "        print(\"mean = \", mean)\n",
    "        tree = FastAVLTree()\n",
    "        arr = []\n",
    "        count = len(data)\n",
    "        for i in range(0, count):\n",
    "            tree.insert((data[i], i+1), [i, data[i], -1])\n",
    "        while len(tree) >= 2:\n",
    "            (k, maximal) = tree.pop_max()\n",
    "            (k2, minimal) = tree.pop_min()\n",
    "            if (minimal[H] < mean):\n",
    "                diff = mean - minimal[H]\n",
    "                minimal[MIX_POS] = maximal[POS]\n",
    "                tree.insert((maximal[H] - diff, len(tree) + 1 ), [maximal[POS], maximal[H] - diff, -1])\n",
    "            arr.append(minimal)\n",
    "            \n",
    "        if (len(tree) > 0):\n",
    "            (k, last) = tree.pop_max()\n",
    "            arr.append(last)\n",
    "        print(\"Finished preprocessing\")\n",
    "        return np.array(arr)\n",
    "    \n",
    "    squared_hist = preprocess(data)\n",
    "    generated = vectorized_sample(generations, squared_hist, np.mean(data))\n",
    "    unique_elements, gen_freq = np.unique(generated, return_counts=True)\n",
    "    print(\"Generated\")\n",
    "    plt.plot(gen_freq/gen_freq.max())\n",
    "    plt.show()\n",
    "    print(\"Real\")\n",
    "    plt.plot(data/data.max())\n",
    "    plt.show()\n",
    "\n",
    "data = np.genfromtxt('/Users/sme/Desktop/rpis/rpis2018/lab1/us_births_69_88.csv', delimiter=',')\n",
    "freq = data[1:,2:]\n",
    "\n",
    "square_hist(np.squeeze(np.asarray(freq)), 100000000)"
   ]
  },
  {
   "cell_type": "code",
   "execution_count": null,
   "metadata": {},
   "outputs": [],
   "source": []
  }
 ],
 "metadata": {
  "kernelspec": {
   "display_name": "Python 3",
   "language": "python",
   "name": "python3"
  },
  "language_info": {
   "codemirror_mode": {
    "name": "ipython",
    "version": 3
   },
   "file_extension": ".py",
   "mimetype": "text/x-python",
   "name": "python",
   "nbconvert_exporter": "python",
   "pygments_lexer": "ipython3",
   "version": "3.7.1"
  }
 },
 "nbformat": 4,
 "nbformat_minor": 1
}
